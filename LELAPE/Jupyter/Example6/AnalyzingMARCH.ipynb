{
 "cells": [
  {
   "cell_type": "markdown",
   "metadata": {},
   "source": [
    "# MARCH Tests\n",
    "## March D-nv-SRAM\n",
    "In this example, we are investigating a 128kx8 SRAM that was exposed to radiation in March C & D tests. Hence, the content inside the memory was continuosly written and red. At any rate, from the point of view of statistical analysisis, this test is equivalent to a pseudostatic one, with two different patterns and with addresses in switching order."
   ]
  },
  {
   "cell_type": "markdown",
   "metadata": {},
   "source": [
    "## Loading packages\n",
    "The very first thing we must do is to load the packages required to load files (_DelimitedFiles_) as well as the LELAPE module. I suppose you have installed both. Load is done with:"
   ]
  },
  {
   "cell_type": "code",
   "execution_count": null,
   "metadata": {},
   "outputs": [],
   "source": [
    "#push!(LOAD_PATH,\"/home/francisco/Escritorio/LELAPE-main/LELAPE/src\")\n",
    "using DelimitedFiles, LELAPE"
   ]
  },
  {
   "cell_type": "markdown",
   "metadata": {},
   "source": [
    "## Defining variables\n",
    "Previous paragraph allows us to define several variables for checking the tests:\n",
    "\n",
    "* Word width : 8 bits\n",
    "* Memory size in words: 2M is just 2^21.\n",
    "* In SRAMs, it seems more likely to succeed the XOR operation.\n",
    "* Tests were pseudostatic. Therefore, it is intelligent to keep information about the different cycles.\n",
    "\n",
    "Ok, let us use this information to set these variables:"
   ]
  },
  {
   "cell_type": "code",
   "execution_count": null,
   "metadata": {},
   "outputs": [],
   "source": [
    "LA = 2^17 # Memory size in words\n",
    "WordWidth = 8 # Selfexplaining.\n",
    "Operation = \"XOR\" # Only \"XOR\" or \"POS\" are allowed.\n",
    "KeepCycles = true # This is a Bool variable and only true false are accepted."
   ]
  },
  {
   "cell_type": "markdown",
   "metadata": {},
   "source": [
    "## Loading data\n",
    "Results are stored in three different files following the required format: \n",
    "* CSV files \n",
    "* Every row is formed as WORD ADDRESS, READ VALUE, PATTERN, CYCLE.\n",
    "Besides, the first row contains column heading (must be skipped), separators are commas and EOL character is the standard. \n",
    "\n",
    "We will use the _readdlm_ function provided by the _DelimitedFiles_ package to load the first CSV file and to store everything in the new variable, DATA. Finally, it is important to indicate that DATA must be an array of UInt32 numbers. "
   ]
  },
  {
   "cell_type": "code",
   "execution_count": null,
   "metadata": {},
   "outputs": [],
   "source": [
    "DATA1 = readdlm(\"MarchD - nv-SRAM.csv\", ',', UInt32, '\\n', skipstart=1)"
   ]
  },
  {
   "cell_type": "markdown",
   "metadata": {},
   "source": [
    "## Looking for MBUs\n",
    "This analyisis is quite simple. We will call the _CheckMBUs_ functionthat returns the MBUs present in DATA.Input arguments are the second and third columns, and the wordwidth.\n",
    "\n",
    "This function returns two vectors. The first one indicates in position _k_ the number of bitflips observed in the _kth_ word. The second one is a vector of vectors and contains more detailed information: not only the number of bitflips per word but the position of the flipped bit (0 = LSB, WordWidth-1 = MSB). "
   ]
  },
  {
   "cell_type": "code",
   "execution_count": null,
   "metadata": {},
   "outputs": [],
   "source": [
    "MBUSize, MBU_bit_pos = CheckMBUs(DATA1[:,2], DATA1[:,3], WordWidth)"
   ]
  },
  {
   "cell_type": "markdown",
   "metadata": {},
   "source": [
    "The following loop will show how many MBUs per number of flipped bits were observed:"
   ]
  },
  {
   "cell_type": "code",
   "execution_count": null,
   "metadata": {},
   "outputs": [],
   "source": [
    "for size = 1: WordWidth\n",
    "    println(\"$size-bit MBUs: \", length(findall(MBUSize.==size)))\n",
    "end"
   ]
  },
  {
   "cell_type": "markdown",
   "metadata": {},
   "source": [
    "## Looking for MCUs\n",
    "As modern memories are interleaved, it is not worth investigating MBUs but MCUs. Now, the system will combine addresses in all the possible pairs and operate them to create a DV set. If there were no MCUs, their characteristics are known. \n",
    "\n",
    "In particular, we can state that if the expected number of elements repeated _k_ times in this set is lower than a very low positive number, it is impossible to observe this number of repetitions unless the Only SBU assumption fails. We will define this threshold as 0.001 (default, 0.05). \n",
    "\n",
    "\n",
    "Although without a solid theoretical background, it seems that using pseudoaddress instead of word address provides better results.\n",
    "\n",
    "Some experiments seem to show that if an element with very few number of 1s in binary format is too often repeated, it is indicative of the presence of MCUs. This is the Trace Rule and, in our analyisis, we want to keep all those too often repeated elements such that contain 2 ones or less in binary format.\n",
    "\n",
    "Finally, perhaps we know that MCUs will not very large. For example, we may guess that MCUs with more than 20 bitflips are totally rejected. Therefore, to help the software and to avoid running out of memory, we will say the program _\"Don't be silly and do not expect events larger than 20!!\"_ If somehow this idea was wrong, we can change this value again and repeat the calculations."
   ]
  },
  {
   "cell_type": "code",
   "execution_count": null,
   "metadata": {},
   "outputs": [],
   "source": [
    "ϵ = 0.001   # If the expected number of elements repeated k times is lower than ϵ, \n",
    "            # we can afirm that this is virtually impossible.\n",
    "UsePseudoAddress = true\n",
    "TraceRuleLength = 2\n",
    "LargestMCUSize = 20"
   ]
  },
  {
   "cell_type": "markdown",
   "metadata": {},
   "source": [
    "Time to test!!! We will call the function. Deppending on the set size or even if this is your first test, it will take you more or less time (Don't get up from your chair, though!!!!)\n",
    "\n",
    "The following instruction will look for:\n",
    "1. Values that pass the self-consistency test (C1_SCY)\n",
    "2. Values found after inspecting MCUs derived from self-consistency-test (C1_MCU).\n",
    "3. Values with less than or equal to _TraceRuleLength_ 1s in binary format that appear too often in the DV set (C1_TRC).\n",
    "4. Values that, after combining in pairs the union of all the previous three sets and applying the operation and that appear too many times within the DV set (C1_SHF).\n",
    "\n",
    "The first column of each matrix are the possible values and the second one the times it appeared."
   ]
  },
  {
   "cell_type": "code",
   "execution_count": null,
   "metadata": {},
   "outputs": [],
   "source": [
    "C1_SCY, C1_MCU, C1_TRC, C1_SHF = DetectAnomalies_FullCheck(DATA1, WordWidth, LA, Operation, TraceRuleLength, UsePseudoAddress, KeepCycles, ϵ, LargestMCUSize)\n"
   ]
  },
  {
   "cell_type": "markdown",
   "metadata": {},
   "source": [
    "Perhaps these matrices are hard to read since, for efficiency, they were returned in UInt32 format, even the number of occurrences!!! Execute the following instrucction for a better comprehension."
   ]
  },
  {
   "cell_type": "code",
   "execution_count": null,
   "metadata": {},
   "outputs": [],
   "source": [
    "println(\"Elements appearing more than expected and passing the Self-Consistency test:\\n\")\n",
    "for index in 1:length(C1_SCY[:, 1])\n",
    "    println(\"Value: 0x\", string(C1_SCY[index, 1], base=16, pad = 6), \" --> \", Int(C1_SCY[index, 2]),\".\")\n",
    "end\n",
    "\n",
    "UsePseudoAddress ? L = LA*WordWidth : L = LA\n",
    "\n",
    "print(\"\\nOnly up to \", MaxExpectedRepetitions(NPairs(DATA1, UsePseudoAddress, WordWidth, KeepCycles), L, Operation, ϵ)-1, \" repetitions are explained by randomness.\")"
   ]
  },
  {
   "cell_type": "markdown",
   "metadata": {},
   "source": [
    "In this example, it is not worth to check the other sets since they did not yield any positive result. If you had had success, you would only have to do the following:"
   ]
  },
  {
   "cell_type": "code",
   "execution_count": null,
   "metadata": {},
   "outputs": [],
   "source": [
    "C1_All = [C1_SCY; C1_MCU; C1_TRC; C1_SHF]"
   ]
  },
  {
   "cell_type": "markdown",
   "metadata": {},
   "source": [
    "## Grouping bitflips\n",
    "Now, we have discovered those values relating pairs of pseudoaddresses. Now, let us go to group events in DATA. \n",
    "\n",
    "The first step consists in labeling all the pseudoaddresses and grouping their assigned indexes to a matrix containing information for the possible MCUs. It is an intermediate step and is done with the instruction _MCU_Indexes_ with the required and already defined parameters. "
   ]
  },
  {
   "cell_type": "code",
   "execution_count": null,
   "metadata": {},
   "outputs": [],
   "source": [
    "Labeled_addresses = MCU_Indexes(DATA1, Operation, C1_All[:, 1], UsePseudoAddress, WordWidth)"
   ]
  },
  {
   "cell_type": "markdown",
   "metadata": {},
   "source": [
    "Using this information, we can group the addresses."
   ]
  },
  {
   "cell_type": "code",
   "execution_count": null,
   "metadata": {
    "scrolled": false
   },
   "outputs": [],
   "source": [
    "Events = Classify_Addresses_in_MCU(DATA1, Labeled_addresses, UsePseudoAddress, WordWidth)"
   ]
  },
  {
   "cell_type": "markdown",
   "metadata": {},
   "source": [
    "---------------------\n",
    "Difficult to read, isn't it? The following instruction makes the content more readable:"
   ]
  },
  {
   "cell_type": "code",
   "execution_count": null,
   "metadata": {
    "scrolled": false
   },
   "outputs": [],
   "source": [
    "for k = 1:length(Events) \n",
    "    NMCUs = length(Events[k][:, 1])\n",
    "    println(\"Pseudoaddresses involved in $(length(Events)-k+1)-bit MCUs ($NMCUs events):\")\n",
    "    for row = 1:NMCUs\n",
    "        for bit = 1:length(Events)-k+1\n",
    "            print(\"0x\", string(Events[k][row, bit], base=16, pad = 6), )\n",
    "            \n",
    "            bit != length(Events)-k+1 ? print(\", \") : print(\"\\n\")\n",
    "\n",
    "        end\n",
    "    end\n",
    "    println()\n",
    "end"
   ]
  },
  {
   "cell_type": "markdown",
   "metadata": {},
   "source": [
    "## Analysis completed!\n"
   ]
  }
 ],
 "metadata": {
  "kernelspec": {
   "display_name": "Julia 1.7.2",
   "language": "julia",
   "name": "julia-1.7"
  },
  "language_info": {
   "file_extension": ".jl",
   "mimetype": "application/julia",
   "name": "julia",
   "version": "1.7.2"
  }
 },
 "nbformat": 4,
 "nbformat_minor": 4
}
