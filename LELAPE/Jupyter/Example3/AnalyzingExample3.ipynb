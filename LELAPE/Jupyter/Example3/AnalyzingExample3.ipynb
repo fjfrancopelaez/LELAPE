{
 "cells": [
  {
   "cell_type": "markdown",
   "metadata": {},
   "source": [
    "# EXAMPLE 3\n",
    "## Explaining the experiment\n",
    "In this example, we are investigating a 128kx8 SRAM that was exposed to radiation in static tests with different bias voltages and with the same pattern, 0x55. Several irradiations were done yielding the CSV files present in this folder. \n",
    "\n",
    "According to the manufacturer, MBUs are impossible due to the presence of interleaving. Besides, the technology was so old that it was very difficult to induce MCUs in the memory with the conditions of the experiment."
   ]
  },
  {
   "cell_type": "markdown",
   "metadata": {},
   "source": [
    "## Loading packages\n",
    "The very first thing we must do is to load the packages required to load files (_DelimitedFiles_) as well as the LELAPE module. I suppose you have installed both. Load is done with:"
   ]
  },
  {
   "cell_type": "code",
   "execution_count": null,
   "metadata": {},
   "outputs": [],
   "source": [
    "### Optional\n",
    "push!(LOAD_PATH, \"PATH_TO_FOLDER_WITH_LELAPE.jl\");\n",
    "#if the following cell is not successfully executed, run this one with the details of your system."
   ]
  },
  {
   "cell_type": "code",
   "execution_count": 1,
   "metadata": {},
   "outputs": [
    {
     "name": "stderr",
     "output_type": "stream",
     "text": [
      "┌ Info: Precompiling LELAPE [top-level]\n",
      "└ @ Base loading.jl:1317\n"
     ]
    }
   ],
   "source": [
    "using DelimitedFiles, LELAPE"
   ]
  },
  {
   "cell_type": "markdown",
   "metadata": {},
   "source": [
    "## Defining variables\n",
    "Previous paragraph allows us to define several variables for checking the tests:\n",
    "\n",
    "* Word width : 8 bits\n",
    "* Memory size in words: 128k is just 2^17.\n",
    "* In SRAMs, it seems more likely to succeed the XOR operation.\n",
    "* Tests were static. No information about cycles is necessary.\n",
    "\n",
    "Ok, let us use this information to set these variables:"
   ]
  },
  {
   "cell_type": "code",
   "execution_count": 2,
   "metadata": {},
   "outputs": [
    {
     "data": {
      "text/plain": [
       "false"
      ]
     },
     "execution_count": 2,
     "metadata": {},
     "output_type": "execute_result"
    }
   ],
   "source": [
    "LA = 2^17 # Memory size in words\n",
    "WordWidth = 8 # Selfexplaining.\n",
    "Operation = \"XOR\" # Only \"XOR\" or \"POS\" are allowed.\n",
    "KeepCycles = false # This is a Bool variable and only true false are accepted."
   ]
  },
  {
   "cell_type": "markdown",
   "metadata": {},
   "source": [
    "## Loading data\n",
    "Results are stored in three different files following the required format: \n",
    "* CSV files \n",
    "* Every row is formed as WORD ADDRESS, READ VALUE, PATTERN, CYCLE.\n",
    "Besides, the first row contains column heading (must be skipped), separators are commas and EOL character is the standard. \n",
    "\n",
    "We will use the _readdlm_ function provided by the _DelimitedFiles_ package to load the first CSV file and to store everything in the new variable, DATA. Finally, it is important to indicate that DATA must be an array of UInt32 numbers. "
   ]
  },
  {
   "cell_type": "code",
   "execution_count": 89,
   "metadata": {},
   "outputs": [
    {
     "data": {
      "text/plain": [
       "902×4 Matrix{UInt32}:\n",
       " 0x000000eb  0x00000057  0x00000055  0x00000001\n",
       " 0x0000014e  0x00000051  0x00000055  0x00000001\n",
       " 0x0000019e  0x0000005d  0x00000055  0x00000001\n",
       " 0x000001d6  0x00000057  0x00000055  0x00000001\n",
       " 0x000001dc  0x00000075  0x00000055  0x00000001\n",
       " 0x00000286  0x00000054  0x00000055  0x00000001\n",
       " 0x000002ac  0x00000054  0x00000055  0x00000001\n",
       " 0x000003a5  0x00000054  0x00000055  0x00000001\n",
       " 0x00000524  0x00000051  0x00000055  0x00000001\n",
       " 0x00000538  0x0000005d  0x00000055  0x00000001\n",
       " 0x00000582  0x00000057  0x00000055  0x00000001\n",
       " 0x000005a5  0x0000005d  0x00000055  0x00000001\n",
       " 0x000005d6  0x00000075  0x00000055  0x00000001\n",
       "          ⋮                          \n",
       " 0x0001f525  0x0000005d  0x00000055  0x00000001\n",
       " 0x0001f560  0x0000005d  0x00000055  0x00000001\n",
       " 0x0001f649  0x00000045  0x00000055  0x00000001\n",
       " 0x0001f986  0x00000075  0x00000055  0x00000001\n",
       " 0x0001f9c8  0x000000d5  0x00000055  0x00000001\n",
       " 0x0001fa44  0x00000075  0x00000055  0x00000001\n",
       " 0x0001fab9  0x00000054  0x00000055  0x00000001\n",
       " 0x0001fac7  0x00000051  0x00000055  0x00000001\n",
       " 0x0001fcfc  0x0000005d  0x00000055  0x00000001\n",
       " 0x0001fd67  0x0000005d  0x00000055  0x00000001\n",
       " 0x0001fd7a  0x00000054  0x00000055  0x00000001\n",
       " 0x0001fe3e  0x00000015  0x00000055  0x00000001"
      ]
     },
     "execution_count": 89,
     "metadata": {},
     "output_type": "execute_result"
    }
   ],
   "source": [
    "DATA10 = readdlm(\"ExampleSRAM10.csv\", ',', UInt32, '\\n', skipstart=1)"
   ]
  },
  {
   "cell_type": "markdown",
   "metadata": {},
   "source": [
    "Good!! If you have correctly proceeded, a 902x4 unsigned integer matrix is loaded. Last column is useless and could have been omitted. At any rate, the software will solve the problem. Now, let us analyze the DATA10 set. First of all, the MBUs."
   ]
  },
  {
   "cell_type": "markdown",
   "metadata": {},
   "source": [
    "## Looking for MBUs\n",
    "This analyisis is quite simple. We will call the _CheckMBUs_ functionthat returns the MBUs present in DATA.Input arguments are the second and third columns, and the wordwidth.\n",
    "\n",
    "This function returns two vectors. The first one indicates in position _k_ the number of bitflips observed in the _kth_ word. The second one is a vector of vectors and contains more detailed information: not only the number of bitflips per word but the position of the flipped bit (0 = LSB, WordWidth-1 = MSB). "
   ]
  },
  {
   "cell_type": "code",
   "execution_count": 48,
   "metadata": {},
   "outputs": [
    {
     "data": {
      "text/plain": [
       "([1, 1, 1, 1, 1, 1, 1, 1, 1, 1  …  1, 1, 1, 1, 1, 1, 1, 1, 1, 1], Any[[5], [4], [2], [4], [1], [6], [6], [1], [1], [2]  …  [5], [7], [1], [4], [5], [5], [7], [2], [1], [1]])"
      ]
     },
     "execution_count": 48,
     "metadata": {},
     "output_type": "execute_result"
    }
   ],
   "source": [
    "MBUSize, MBU_bit_pos = CheckMBUs(DATA10[:,2], DATA10[:,3], WordWidth)"
   ]
  },
  {
   "cell_type": "markdown",
   "metadata": {},
   "source": [
    "The following loop will show how many MBUs per number of flipped bits were observed:"
   ]
  },
  {
   "cell_type": "code",
   "execution_count": 49,
   "metadata": {},
   "outputs": [
    {
     "name": "stdout",
     "output_type": "stream",
     "text": [
      "1-bit MBUs: 571\n",
      "2-bit MBUs: 3\n",
      "3-bit MBUs: 0\n",
      "4-bit MBUs: 0\n",
      "5-bit MBUs: 0\n",
      "6-bit MBUs: 0\n",
      "7-bit MBUs: 0\n",
      "8-bit MBUs: 0\n"
     ]
    }
   ],
   "source": [
    "for size = 1: WordWidth\n",
    "    println(\"$size-bit MBUs: \", length(findall(MBUSize.==size)))\n",
    "end"
   ]
  },
  {
   "cell_type": "markdown",
   "metadata": {},
   "source": [
    "__WHAT???? THREE 2-BIT MCUS?__ This is nonsense since this is physically impossible. Perhaps the problem comes from the fact that the memory was overirradiated. Let us calculate the expected number of false 2-bit MBUs..."
   ]
  },
  {
   "cell_type": "code",
   "execution_count": 50,
   "metadata": {},
   "outputs": [
    {
     "name": "stdout",
     "output_type": "stream",
     "text": [
      "We expected 1.0978288650512695 false 2-bit MBUs in this  experiment.\n"
     ]
    }
   ],
   "source": [
    "NF2BITMBU = NF2BitMCUs(DATA10, LA, \"MBU\", WordWidth, WordWidth)\n",
    "println(\"We expected $NF2BITMBU false 2-bit MBUs in this  experiment.\")"
   ]
  },
  {
   "cell_type": "markdown",
   "metadata": {},
   "source": [
    "Therefore, we expected in average 2.71... false 2-bit MBUs and observed 3. This makes sense."
   ]
  },
  {
   "cell_type": "markdown",
   "metadata": {},
   "source": [
    "## Looking for MCUs\n",
    "As modern memories are interleaved, it is not worth investigating MBUs but MCUs. Now, the system will combine addresses in all the possible pairs and operate them to create a DV set. If there were no MCUs, their characteristics are known. \n",
    "\n",
    "In particular, we can state that if the expected number of elements repeated _k_ times in this set is lower than a very low positive number, it is impossible to observe this number of repetitions unless the Only SBU assumption fails. We will define this threshold as 0.001 (default, 0.05). \n",
    "\n",
    "\n",
    "Although without a solid theoretical background, it seems that using pseudoaddress instead of word address provides better results.\n",
    "\n",
    "Some experiments seem to show that if an element with very few number of 1s in binary format is too often repeated, it is indicative of the presence of MCUs. This is the Trace Rule and, in our analyisis, we want to keep all those too often repeated elements such that contain 2 ones or less in binary format.\n",
    "\n",
    "Finally, perhaps we know that MCUs will not very large. For example, we may guess that MCUs with more than 20 bitflips are totally rejected. Therefore, to help the software and to avoid running out of memory, we will say the program _\"Don't be silly and do not expect events larger than 20!!\"_ If somehow this idea was wrong, we can change this value again and repeat the calculations."
   ]
  },
  {
   "cell_type": "code",
   "execution_count": 51,
   "metadata": {},
   "outputs": [
    {
     "data": {
      "text/plain": [
       "20"
      ]
     },
     "execution_count": 51,
     "metadata": {},
     "output_type": "execute_result"
    }
   ],
   "source": [
    "ϵ = 0.001   # If the expected number of elements repeated k times is lower than ϵ, \n",
    "            # we can afirm that this is virtually impossible.\n",
    "UsePseudoAddress = true\n",
    "TraceRuleLength = 2\n",
    "LargestMCUSize = 20"
   ]
  },
  {
   "cell_type": "markdown",
   "metadata": {},
   "source": [
    "Time to test!!! We will call the function. Deppending on the set size or even if this is your first test, it will take you more or less time (Don't get up from your chair, though!!!!)\n",
    "\n",
    "The following instruction will look for:\n",
    "1. Values that pass the self-consistency test (C10_SCY)\n",
    "2. Values found after inspecting MCUs derived from self-consistency-test (C10_MCU).\n",
    "3. Values with less than or equal to _TraceRuleLength_ 1s in binary format that appear too often in the DV set (C10_TRC).\n",
    "4. Values that, after combining in pairs the union of all the previous three sets and applying the operation and that appear too many times within the DV set (C10_SHF).\n",
    "\n",
    "The first column of each matrix are the possible values and the second one the times it appeared."
   ]
  },
  {
   "cell_type": "code",
   "execution_count": 88,
   "metadata": {},
   "outputs": [
    {
     "data": {
      "text/plain": [
       "(UInt32[0x00000010 0x0000000e], Matrix{UInt32}(undef, 0, 2), Matrix{UInt32}(undef, 0, 2), Matrix{UInt32}(undef, 0, 2))"
      ]
     },
     "execution_count": 88,
     "metadata": {},
     "output_type": "execute_result"
    }
   ],
   "source": [
    "C10_SCY, C10_MCU, C10_TRC, C10_SHF = DetectAnomalies_FullCheck(DATA10, WordWidth, LA, Operation, TraceRuleLength, UsePseudoAddress, KeepCycles, ϵ, LargestMCUSize)\n"
   ]
  },
  {
   "cell_type": "markdown",
   "metadata": {},
   "source": [
    "### What has happened? \n",
    "All the returned matrices are void. The reason is that there are not MCUs, only SBUs, or at least are so scarce that cannot be distinguished from statistical deviations. Now, we can conclude the analysis since all the bitflips are SBUs."
   ]
  },
  {
   "cell_type": "markdown",
   "metadata": {},
   "source": [
    "## Further analysis\n",
    "You can find in this folder other actual data got from the same memory. Analyze them and, if you wish. For your information, there are at least some files that yield some positive results."
   ]
  },
  {
   "cell_type": "code",
   "execution_count": null,
   "metadata": {},
   "outputs": [],
   "source": []
  }
 ],
 "metadata": {
  "kernelspec": {
   "display_name": "Julia 1.7.2",
   "language": "julia",
   "name": "julia-1.7.2"
  },
  "language_info": {
   "file_extension": ".jl",
   "mimetype": "application/julia",
   "name": "julia",
   "version": "1.7.2"
  }
 },
 "nbformat": 4,
 "nbformat_minor": 4
}
