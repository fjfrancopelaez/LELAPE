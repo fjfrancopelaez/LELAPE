{
 "cells": [
  {
   "cell_type": "markdown",
   "metadata": {},
   "source": [
    "# EXAMPLE 7\n",
    "## Explaining the experiment\n",
    "In this example, we are investigating the bitstream of an FPGA. Its size is 955,760x32 = 30,584,320, containing 25,479,936 bits of configuration memory, 131,072 flip-flops, and 4,973,312 bits of BRAM. A golden file following the manufacturer's rules was uploaded on the FPGA and then irradiated in static mode in an only round. Later, the content was downloaded and compared with the initial file. Although we can split the raw bitstream in three sets thanks to some reverse engineering, we have preferred not to do that in order to force the tool to do its best."
   ]
  },
  {
   "cell_type": "markdown",
   "metadata": {},
   "source": [
    "## Loading packages\n",
    "The very first thing we must do is to load the packages required to load files (_DelimitedFiles_) as well as the LELAPE module. I suppose you have installed both. Load is done with:"
   ]
  },
  {
   "cell_type": "code",
   "execution_count": null,
   "metadata": {},
   "outputs": [],
   "source": [
    "### Defining the path to LELAPE\n",
    "push!(LOAD_PATH, \"PATH_TO_FOLDER_WITH_LELAPE.jl\"); # <-- ADAPT THIS INSTRUCTION TO YOUR COMPUTER!\n",
    "## If you are a Windows user, remember that subfolders are indicated with \\\\ or /, NEVER with a simple backslash."
   ]
  },
  {
   "cell_type": "code",
   "execution_count": null,
   "metadata": {},
   "outputs": [],
   "source": [
    "using DelimitedFiles, LELAPE"
   ]
  },
  {
   "cell_type": "markdown",
   "metadata": {},
   "source": [
    "## Defining variables\n",
    "Previous paragraph allows us to define several variables for checking the tests:\n",
    "\n",
    "* Word width : 32 bits\n",
    "* Memory size in words: 800344.\n",
    "* In FPGAs, it seems more likely to succeed the POS operation.\n",
    "* Tests were static. No information about cycles is necessary.\n",
    "\n",
    "Ok, let us use this information to set these variables:"
   ]
  },
  {
   "cell_type": "code",
   "execution_count": null,
   "metadata": {},
   "outputs": [],
   "source": [
    "LA = 955760 # Memory size in words\n",
    "WordWidth = 32 # Selfexplaining.\n",
    "Operation = \"POS\" # Only \"XOR\" or \"POS\" are allowed.\n",
    "KeepCycles = false # This is a Bool variable and only true false are accepted."
   ]
  },
  {
   "cell_type": "markdown",
   "metadata": {},
   "source": [
    "## Loading data\n",
    "Results are stored in three different files following the required format: \n",
    "* CSV files \n",
    "* Every row is formed as WORD ADDRESS, READ VALUE, PATTERN, CYCLE.\n",
    "Besides, the first row contains column heading (must be skipped), separators are commas and EOL character is the standard. \n",
    "\n",
    "We will use the _readdlm_ function provided by the _DelimitedFiles_ package to load the first CSV file and to store everything in the new variable, DATA. Finally, it is important to indicate that DATA must be an array of UInt32 numbers. "
   ]
  },
  {
   "cell_type": "code",
   "execution_count": null,
   "metadata": {},
   "outputs": [],
   "source": [
    "DATA1 = readdlm(\"ExampleFPGA11.csv\", ',', UInt32, '\\n', skipstart=1)"
   ]
  },
  {
   "cell_type": "markdown",
   "metadata": {},
   "source": [
    "Good!! If you have correctly proceeded, _ExampleFPGA11_returned a 1325x4 unsigned integer matrix is loaded. Now, let us analyze the DATA1."
   ]
  },
  {
   "cell_type": "markdown",
   "metadata": {},
   "source": [
    "## Looking for MBUs\n",
    "This analyisis is quite simple. We will call the _CheckMBUs_ function, which returns the MBUs present in DATA.Input arguments are the second and third columns, and the wordwidth.\n",
    "\n",
    "This function returns two vectors. The first one indicates in position _k_ the number of bitflips observed in the _kth_ word. The second one is a vector of vectors and contains more detailed information: not only the number of bitflips per word but the position of the flipped bit (0 = LSB, WordWidth-1 = MSB). "
   ]
  },
  {
   "cell_type": "code",
   "execution_count": null,
   "metadata": {},
   "outputs": [],
   "source": [
    "MBUSize, MBU_bit_pos = CheckMBUs(DATA1[:,2], DATA1[:,3], WordWidth)"
   ]
  },
  {
   "cell_type": "markdown",
   "metadata": {},
   "source": [
    "The following loop will show how many MBUs per number of flipped bits were observed:"
   ]
  },
  {
   "cell_type": "code",
   "execution_count": null,
   "metadata": {},
   "outputs": [],
   "source": [
    "TNFB = 0 # Total number of bitflpis\n",
    "for size = 1: WordWidth\n",
    "    NMBUs = length(findall(MBUSize.==size))\n",
    "    TNFB += NMBUs*size\n",
    "    NMBUs!=0 ? println(\"$size-bit MBUs: \", NMBUs) : nothing\n",
    "end\n",
    "println(\"\\n$TNFB bitflips\")"
   ]
  },
  {
   "cell_type": "markdown",
   "metadata": {},
   "source": [
    "Interesting! There are some MBUs but... are they real or just the accumulation of SBUs. Let us perform an analysis of the presence of false 2- and 3-bit MBUs."
   ]
  },
  {
   "cell_type": "code",
   "execution_count": null,
   "metadata": {},
   "outputs": [],
   "source": [
    "NF2BMBU = NF2BitMCUs(TNFB, LA, \"MBU\", WordWidth, WordWidth, true)\n",
    "println(\"You expected $NF2BMBU and got $(length(findall(MBUSize.==2))). What do you believe?\")"
   ]
  },
  {
   "cell_type": "markdown",
   "metadata": {},
   "source": [
    "\n",
    "## Looking for MCUs\n",
    "As modern memories are interleaved, it is not worth investigating MBUs but MCUs. Now, the system will combine addresses in all the possible pairs and operate them to create a DV set. If there were no MCUs, their characteristics are known. \n",
    "\n",
    "In particular, we can state that if the expected number of elements repeated _k_ times in this set is lower than a very low positive number, it is impossible to observe this number of repetitions unless the Only SBU assumption fails. We will define this threshold as 0.001 (default, 0.05). \n",
    "\n",
    "\n",
    "Although without a solid theoretical background, it seems that using pseudoaddress instead of word address provides better results.\n",
    "\n",
    "Some experiments seem to show that if an element with very few number of 1s in binary format is too often repeated, it is indicative of the presence of MCUs. This is the Trace Rule and, in our analyisis, we want to keep all those too often repeated elements such that contain 2 ones or less in binary format.\n",
    "\n",
    "Finally, perhaps we know that MCUs will not very large. For example, we may guess that MCUs with more than 20 bitflips are totally rejected. Therefore, to help the software and to avoid running out of memory, we will say the program _\"Don't be silly and do not expect events larger than 20!!\"_ If somehow this idea was wrong, we can change this value again and repeat the calculations.\n",
    "\n",
    "__NOTE__: _In this experiments, it occurs that there will be very, very large events. Therefore, we are going to suppose that events can go up 500._"
   ]
  },
  {
   "cell_type": "code",
   "execution_count": null,
   "metadata": {},
   "outputs": [],
   "source": [
    "ϵ = 0.001   # If the expected number of elements repeated k times is lower than ϵ, \n",
    "            # we can afirm that this is virtually impossible.\n",
    "UsePseudoAddress = true\n",
    "TraceRuleLength = 2\n",
    "LargestMCUSize = 500"
   ]
  },
  {
   "cell_type": "markdown",
   "metadata": {},
   "source": [
    "Time to test!!! We will call the function. Deppending on the set size or even if this is your first test, it will take you more or less time (Don't get up from your chair, though!!!!)\n",
    "\n",
    "The following instruction will look for:\n",
    "1. Values that pass the self-consistency test (C1_SCY)\n",
    "2. Values found after inspecting MCUs derived from self-consistency-test (C1_MCU).\n",
    "3. Values with less than or equal to _TraceRuleLength_ 1s in binary format that appear too often in the DV set (C1_TRC).\n",
    "4. Values that, after combining in pairs the union of all the previous three sets and applying the operation and that appear too many times within the DV set (C1_SHF).\n",
    "\n",
    "The first column of each matrix are the possible values and the second one the times it appeared."
   ]
  },
  {
   "cell_type": "code",
   "execution_count": null,
   "metadata": {},
   "outputs": [],
   "source": [
    "C1_SCY, C1_MCU, C1_TRC, C1_SHF = DetectAnomalies_FullCheck(DATA1, WordWidth, LA, Operation, TraceRuleLength, UsePseudoAddress, KeepCycles, ϵ, LargestMCUSize)"
   ]
  },
  {
   "cell_type": "markdown",
   "metadata": {},
   "source": [
    "Perhaps these matrices are hard to read since, for efficiency, they were returned in UInt32 format, even the number of occurrences!!! Execute the following instrucction for a better comprehension."
   ]
  },
  {
   "cell_type": "code",
   "execution_count": null,
   "metadata": {},
   "outputs": [],
   "source": [
    "println(\"Elements appearing more than expected and passing the Self-Consistency test:\\n\")\n",
    "for index in 1:length(C1_SCY[:, 1])\n",
    "    println(\"Value: 0x\", string(C1_SCY[index, 1], base=16, pad = 6), \" (\", Int(C1_SCY[index, 1]), \") --> \", Int(C1_SCY[index, 2]),\".\")\n",
    "end\n",
    "\n",
    "UsePseudoAddress ? L = LA*WordWidth : L = LA\n",
    "\n",
    "print(\"\\nOnly up to \", MaxExpectedRepetitions(NPairs(DATA1, UsePseudoAddress, WordWidth, KeepCycles), L, Operation, ϵ)-1, \" repetitions are explained by randomness.\")"
   ]
  },
  {
   "cell_type": "markdown",
   "metadata": {},
   "source": [
    "In the case of using _ExampleFPGA11.csv_, you will find 4 values, 3231, 3232, 6464, and 9696. The first two values were already found in Example 5. The latter two values are just 3232×2 and 3232×3. Now, let us summaryze sets and start to group bitflips."
   ]
  },
  {
   "cell_type": "code",
   "execution_count": null,
   "metadata": {},
   "outputs": [],
   "source": [
    "C1_All = [C1_SCY; C1_MCU; C1_TRC; C1_SHF]"
   ]
  },
  {
   "cell_type": "markdown",
   "metadata": {},
   "source": [
    "## Grouping bitflips\n",
    "Now, we have discovered those values relating pairs of pseudoaddresses. Now, let us go to group events in DATA. \n",
    "\n",
    "The first step consists in labeling all the pseudoaddresses and grouping their assigned indexes to a matrix containing information for the possible MCUs. It is an intermediate step and is done with the instruction _MCU_Indexes_ with the required and already defined parameters. "
   ]
  },
  {
   "cell_type": "code",
   "execution_count": null,
   "metadata": {},
   "outputs": [],
   "source": [
    "Labeled_addresses = MCU_Indexes(DATA1, Operation, C1_All[:, 1], UsePseudoAddress, WordWidth)"
   ]
  },
  {
   "cell_type": "markdown",
   "metadata": {},
   "source": [
    "You should have got a 198×128 matrix so there are 198 multiple events, with at least one with 128 bits.  \n",
    "\n",
    "Now, we will classify addresses with _Classify_Addresses_in_MCU()_, using the previous matrix, _Labeled_addresses_. "
   ]
  },
  {
   "cell_type": "code",
   "execution_count": null,
   "metadata": {},
   "outputs": [],
   "source": [
    "Events = Classify_Addresses_in_MCU(DATA1, Labeled_addresses, UsePseudoAddress, WordWidth)"
   ]
  },
  {
   "cell_type": "markdown",
   "metadata": {},
   "source": [
    "---------------------\n",
    "Difficult to read, isn't it? The following instruction makes the content more readable:"
   ]
  },
  {
   "cell_type": "code",
   "execution_count": null,
   "metadata": {},
   "outputs": [],
   "source": [
    "for k = 1:length(Events) \n",
    "    NMCUs = length(Events[k][:, 1])\n",
    "    if NMCUs != 0\n",
    "        println(\"Pseudoaddresses involved in $(length(Events)-k+1)-bit MCUs ($NMCUs events):\")\n",
    "        for row = 1:NMCUs\n",
    "            for bit = 1:length(Events)-k+1\n",
    "                print(\"0x\", string(Events[k][row, bit], base=16, pad = 6), )\n",
    "            \n",
    "                bit != length(Events)-k+1 ? print(\", \") : print(\"\\n\")\n",
    "\n",
    "            end\n",
    "        end\n",
    "        println()\n",
    "    end\n",
    "end\n"
   ]
  },
  {
   "cell_type": "markdown",
   "metadata": {},
   "source": [
    "Let us summaryze the number of occurrences."
   ]
  },
  {
   "cell_type": "code",
   "execution_count": null,
   "metadata": {},
   "outputs": [],
   "source": [
    "##################\n",
    "println(\"Multiplicity\\tOccurrences\")\n",
    "println(\"------------\\t-----------\")\n",
    "for k = 1:length(Events) \n",
    "    NMCUs = length(Events[k][:, 1])\n",
    "    if NMCUs != 0\n",
    "        println(\"$(length(Events)-k+1)\\t\\t$NMCUs\")\n",
    "    end\n",
    "end"
   ]
  },
  {
   "cell_type": "markdown",
   "metadata": {},
   "source": [
    "## Analysis completed but...\n",
    "You can find other data sets in this folder. However, there are more and more events and it is likely that your computer be commited. Try at your risk if you wish or go on to the second part of the notebook."
   ]
  },
  {
   "cell_type": "markdown",
   "metadata": {},
   "source": [
    "# Second part \n",
    "Fortunately, this FPGA was already tested in Example 5, so we know the values linking bitflips in the bitstream:\n",
    "\n",
    "* 1\n",
    "* 2\n",
    "* 3230\n",
    "* 3231\n",
    "* 3232\n",
    "* 3233\n",
    "* 3234\n",
    "\n",
    "Also, other values were discovered with _ExampleFPGA11.csv_:\n",
    "\n",
    "* 6464\n",
    "* 9696\n",
    "\n",
    "Therefore, we can just define the anomalies and verify all the sets. Let us go:"
   ]
  },
  {
   "cell_type": "code",
   "execution_count": null,
   "metadata": {},
   "outputs": [],
   "source": [
    "Anomalies = convert.(UInt32, [1; 2; 3230:3234; 6464; 9696]); # The anomalies as a UInt32 Vector"
   ]
  },
  {
   "cell_type": "markdown",
   "metadata": {},
   "source": [
    "Let us reload the CSV file. Change it if you wish:"
   ]
  },
  {
   "cell_type": "code",
   "execution_count": null,
   "metadata": {},
   "outputs": [],
   "source": [
    "DATA1 = readdlm(\"ExampleFPGA11.csv\", ',', UInt32, '\\n', skipstart=1);"
   ]
  },
  {
   "cell_type": "markdown",
   "metadata": {},
   "source": [
    "Recalculate the event shapes..."
   ]
  },
  {
   "cell_type": "code",
   "execution_count": null,
   "metadata": {},
   "outputs": [],
   "source": [
    "Labeled_addresses = MCU_Indexes(DATA1, Operation, Anomalies, UsePseudoAddress, WordWidth)"
   ]
  },
  {
   "cell_type": "markdown",
   "metadata": {},
   "source": [
    "Let us show the MCUs with their corresponding addreseses:\n"
   ]
  },
  {
   "cell_type": "code",
   "execution_count": null,
   "metadata": {},
   "outputs": [],
   "source": [
    "Events = Classify_Addresses_in_MCU(DATA1, Labeled_addresses, UsePseudoAddress, WordWidth)\n",
    "####\n",
    "for k = 1:length(Events) \n",
    "    NMCUs = length(Events[k][:, 1])\n",
    "    if NMCUs != 0\n",
    "        println(\"Pseudoaddresses involved in $(length(Events)-k+1)-bit MCUs ($NMCUs events):\")\n",
    "        for row = 1:NMCUs\n",
    "            for bit = 1:length(Events)-k+1\n",
    "                print(\"0x\", string(Events[k][row, bit], base=16, pad = 6), )\n",
    "            \n",
    "                bit != length(Events)-k+1 ? print(\", \") : print(\"\\n\")\n",
    "\n",
    "            end\n",
    "        end\n",
    "        println()\n",
    "    end\n",
    "end\n"
   ]
  },
  {
   "cell_type": "markdown",
   "metadata": {},
   "source": [
    "Or, in short:"
   ]
  },
  {
   "cell_type": "code",
   "execution_count": null,
   "metadata": {},
   "outputs": [],
   "source": [
    "##################\n",
    "println(\"Multiplicity\\tOccurrences\")\n",
    "println(\"------------\\t-----------\")\n",
    "for k = 1:length(Events) \n",
    "    NMCUs = length(Events[k][:, 1])\n",
    "    if NMCUs != 0\n",
    "        println(\"$(length(Events)-k+1)\\t\\t$NMCUs\")\n",
    "    end\n",
    "end"
   ]
  },
  {
   "cell_type": "markdown",
   "metadata": {},
   "source": [
    "The use of a larger set of anomalies has improved results in the case of _ExampleFPGA11.csv_, although the misterious large event has still 128 bits, a power of 2.\n",
    "\n",
    "Now, you can just analyze all the other sets of events. Good luck!"
   ]
  },
  {
   "cell_type": "markdown",
   "metadata": {},
   "source": [
    "# More information\n",
    "These results were the basis for this work: J. C. Fabero, G. Korkian, F. J. Franco, H. Mecha, M. Letiche and J. A. Clemente, _\"Thermal Neutron-induced SEUs on a COTS 28-nm SRAM-based FPGA under Different Incident Angles,_\" 2021 IEEE 22nd Latin American Test Symposium (LATS), 2021, pp. 1-6, doi: 10.1109/LATS53581.2021.9651879.\n",
    "\n",
    "Go there for further details."
   ]
  }
 ],
 "metadata": {
  "kernelspec": {
   "display_name": "Julia 1.7.2",
   "language": "julia",
   "name": "julia-1.7"
  },
  "language_info": {
   "file_extension": ".jl",
   "mimetype": "application/julia",
   "name": "julia",
   "version": "1.7.2"
  }
 },
 "nbformat": 4,
 "nbformat_minor": 4
}
