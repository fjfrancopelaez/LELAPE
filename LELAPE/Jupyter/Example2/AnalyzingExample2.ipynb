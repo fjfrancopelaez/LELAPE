{
 "cells": [
  {
   "cell_type": "markdown",
   "metadata": {},
   "source": [
    "# EXAMPLE 2\n",
    "## Explaining the experiment\n",
    "In this example, we are investigating a 2Mx8 SRAM that was exposed to radiation in static tests with different bias voltages and with the same pattern, 0x55. Several irradiations were done yielding the CSV files present in this folder. "
   ]
  },
  {
   "cell_type": "markdown",
   "metadata": {},
   "source": [
    "## Loading packages\n",
    "The very first thing we must do is to load the packages required to load files (_DelimitedFiles_) as well as the LELAPE module. I suppose you have installed both. Load is done with:"
   ]
  },
  {
   "cell_type": "code",
   "execution_count": null,
   "metadata": {},
   "outputs": [],
   "source": [
    "### Optional\n",
    "push!(LOAD_PATH, \"PATH_TO_FOLDER_WITH_LELAPE.jl\");\n",
    "#if the following cell is not successfully executed, run this one with the details of your system."
   ]
  },
  {
   "cell_type": "code",
   "execution_count": 1,
   "metadata": {},
   "outputs": [],
   "source": [
    "using DelimitedFiles, LELAPE"
   ]
  },
  {
   "cell_type": "markdown",
   "metadata": {},
   "source": [
    "## Defining variables\n",
    "Previous paragraph allows us to define several variables for checking the tests:\n",
    "\n",
    "* Word width : 8 bits\n",
    "* Memory size in words: 2M is just 2^21.\n",
    "* In SRAMs, it seems more likely to succeed the XOR operation.\n",
    "* Tests were static. No information about cycles is necessary.\n",
    "\n",
    "Ok, let us use this information to set these variables:"
   ]
  },
  {
   "cell_type": "code",
   "execution_count": 2,
   "metadata": {},
   "outputs": [
    {
     "data": {
      "text/plain": [
       "false"
      ]
     },
     "execution_count": 2,
     "metadata": {},
     "output_type": "execute_result"
    }
   ],
   "source": [
    "LA = 2^21 # Memory size in words\n",
    "WordWidth = 8 # Selfexplaining.\n",
    "Operation = \"XOR\" # Only \"XOR\" or \"POS\" are allowed.\n",
    "KeepCycles = false # This is a Bool variable and only true false are accepted."
   ]
  },
  {
   "cell_type": "markdown",
   "metadata": {},
   "source": [
    "## Loading data\n",
    "Results are stored in three different files following the required format: \n",
    "* CSV files \n",
    "* Every row is formed as WORD ADDRESS, READ VALUE, PATTERN, CYCLE.\n",
    "Besides, the first row contains column heading (must be skipped), separators are commas and EOL character is the standard. \n",
    "\n",
    "We will use the _readdlm_ function provided by the _DelimitedFiles_ package to load the first CSV file and to store everything in the new variable, DATA. Finally, it is important to indicate that DATA must be an array of UInt32 numbers. "
   ]
  },
  {
   "cell_type": "code",
   "execution_count": 3,
   "metadata": {},
   "outputs": [
    {
     "data": {
      "text/plain": [
       "437×3 Matrix{UInt32}:\n",
       " 0x000001e0  0x00000051  0x00000055\n",
       " 0x000007a2  0x00000045  0x00000055\n",
       " 0x00001636  0x00000054  0x00000055\n",
       " 0x000017ba  0x00000051  0x00000055\n",
       " 0x00001962  0x00000054  0x00000055\n",
       " 0x00001f78  0x00000045  0x00000055\n",
       " 0x000036b8  0x00000075  0x00000055\n",
       " 0x000039fa  0x000000d5  0x00000055\n",
       " 0x00004608  0x0000005d  0x00000055\n",
       " 0x0000529a  0x00000045  0x00000055\n",
       " 0x00006154  0x00000051  0x00000055\n",
       " 0x00008342  0x00000075  0x00000055\n",
       " 0x0000973e  0x00000054  0x00000055\n",
       "          ⋮              \n",
       " 0x000f785a  0x00000051  0x00000055\n",
       " 0x000f82e2  0x00000054  0x00000055\n",
       " 0x000f952c  0x00000054  0x00000055\n",
       " 0x000fa54c  0x0000005d  0x00000055\n",
       " 0x000fa802  0x0000005d  0x00000055\n",
       " 0x000fabc4  0x0000005d  0x00000055\n",
       " 0x000fc05c  0x00000051  0x00000055\n",
       " 0x000fc060  0x00000045  0x00000055\n",
       " 0x000fcb6e  0x00000045  0x00000055\n",
       " 0x000ff222  0x00000051  0x00000055\n",
       " 0x000ff362  0x00000015  0x00000055\n",
       " 0x000ff9a4  0x0000005d  0x00000055"
      ]
     },
     "execution_count": 3,
     "metadata": {},
     "output_type": "execute_result"
    }
   ],
   "source": [
    "DATA4 = readdlm(\"ExampleSRAM04.csv\", ',', UInt32, '\\n', skipstart=1)"
   ]
  },
  {
   "cell_type": "markdown",
   "metadata": {},
   "source": [
    "Good!! If you have correctly proceeded, a 437x3 unsigned integer matrix is loaded. Now, let us analyze the DATA4 but we need to define in advance several variables to set the analysis."
   ]
  },
  {
   "cell_type": "markdown",
   "metadata": {},
   "source": [
    "## Looking for MBUs\n",
    "This analyisis is quite simple. We will call the _CheckMBUs_ functionthat returns the MBUs present in DATA.Input arguments are the second and third columns, and the wordwidth.\n",
    "\n",
    "This function returns two vectors. The first one indicates in position _k_ the number of bitflips observed in the _kth_ word. The second one is a vector of vectors and contains more detailed information: not only the number of bitflips per word but the position of the flipped bit (0 = LSB, WordWidth-1 = MSB). "
   ]
  },
  {
   "cell_type": "code",
   "execution_count": 4,
   "metadata": {},
   "outputs": [
    {
     "data": {
      "text/plain": [
       "([1, 1, 1, 1, 1, 1, 1, 1, 1, 1  …  1, 1, 1, 1, 1, 1, 1, 1, 1, 1], Any[[2], [4], [0], [2], [0], [4], [5], [7], [3], [4]  …  [0], [3], [3], [3], [2], [4], [4], [2], [6], [3]])"
      ]
     },
     "execution_count": 4,
     "metadata": {},
     "output_type": "execute_result"
    }
   ],
   "source": [
    "MBUSize, MBU_bit_pos = CheckMBUs(DATA4[:,2], DATA4[:,3], WordWidth)"
   ]
  },
  {
   "cell_type": "markdown",
   "metadata": {},
   "source": [
    "The following loop will show how many MBUs per number of flipped bits were observed:"
   ]
  },
  {
   "cell_type": "code",
   "execution_count": 5,
   "metadata": {},
   "outputs": [
    {
     "name": "stdout",
     "output_type": "stream",
     "text": [
      "1-bit MBUs: 437\n",
      "2-bit MBUs: 0\n",
      "3-bit MBUs: 0\n",
      "4-bit MBUs: 0\n",
      "5-bit MBUs: 0\n",
      "6-bit MBUs: 0\n",
      "7-bit MBUs: 0\n",
      "8-bit MBUs: 0\n"
     ]
    }
   ],
   "source": [
    "for size = 1: WordWidth\n",
    "    println(\"$size-bit MBUs: \", length(findall(MBUSize.==size)))\n",
    "end"
   ]
  },
  {
   "cell_type": "markdown",
   "metadata": {},
   "source": [
    "## Looking for MCUs\n",
    "As modern memories are interleaved, it is not worth investigating MBUs but MCUs. Now, the system will combine addresses in all the possible pairs and operate them to create a DV set. If there were no MCUs, their characteristics are known. \n",
    "\n",
    "In particular, we can state that if the expected number of elements repeated _k_ times in this set is lower than a very low positive number, it is impossible to observe this number of repetitions unless the Only SBU assumption fails. We will define this threshold as 0.001 (default, 0.05). \n",
    "\n",
    "\n",
    "Although without a solid theoretical background, it seems that using pseudoaddress instead of word address provides better results.\n",
    "\n",
    "Some experiments seem to show that if an element with very few number of 1s in binary format is too often repeated, it is indicative of the presence of MCUs. This is the Trace Rule and, in our analyisis, we want to keep all those too often repeated elements such that contain 2 ones or less in binary format.\n",
    "\n",
    "Finally, perhaps we know that MCUs will not very large. For example, we may guess that MCUs with more than 20 bitflips are totally rejected. Therefore, to help the software and to avoid running out of memory, we will say the program _\"Don't be silly and do not expect events larger than 20!!\"_ If somehow this idea was wrong, we can change this value again and repeat the calculations."
   ]
  },
  {
   "cell_type": "code",
   "execution_count": 6,
   "metadata": {},
   "outputs": [
    {
     "data": {
      "text/plain": [
       "20"
      ]
     },
     "execution_count": 6,
     "metadata": {},
     "output_type": "execute_result"
    }
   ],
   "source": [
    "ϵ = 0.001   # If the expected number of elements repeated k times is lower than ϵ, \n",
    "            # we can afirm that this is virtually impossible.\n",
    "UsePseudoAddress = true\n",
    "TraceRuleLength = 2\n",
    "LargestMCUSize = 20"
   ]
  },
  {
   "cell_type": "markdown",
   "metadata": {},
   "source": [
    "Time to test!!! We will call the function. Deppending on the set size or even if this is your first test, it will take you more or less time (Don't get up from your chair, though!!!!)\n",
    "\n",
    "The following instruction will look for:\n",
    "1. Values that pass the self-consistency test (C1_SCY)\n",
    "2. Values found after inspecting MCUs derived from self-consistency-test (C1_MCU).\n",
    "3. Values with less than or equal to _TraceRuleLength_ 1s in binary format that appear too often in the DV set (C1_TRC).\n",
    "4. Values that, after combining in pairs the union of all the previous three sets and applying the operation and that appear too many times within the DV set (C1_SHF).\n",
    "\n",
    "The first column of each matrix are the possible values and the second one the times it appeared."
   ]
  },
  {
   "cell_type": "code",
   "execution_count": 11,
   "metadata": {},
   "outputs": [
    {
     "data": {
      "text/plain": [
       "(UInt32[0x00000800 0x00000012; 0x00400800 0x0000000d; 0x00700800 0x00000007], Matrix{UInt32}(undef, 0, 2), Matrix{UInt32}(undef, 0, 2), Matrix{UInt32}(undef, 0, 2))"
      ]
     },
     "execution_count": 11,
     "metadata": {},
     "output_type": "execute_result"
    }
   ],
   "source": [
    "C4_SCY, C4_MCU, C4_TRC, C4_SHF = DetectAnomalies_FullCheck(DATA4, WordWidth, LA, Operation, TraceRuleLength, UsePseudoAddress, KeepCycles, ϵ, LargestMCUSize)\n"
   ]
  },
  {
   "cell_type": "markdown",
   "metadata": {},
   "source": [
    "Perhaps these matrices are hard to read since, for efficiency, they were returned in UInt32 format, even the number of occurrences!!! Execute the following instrucction for a better comprehension."
   ]
  },
  {
   "cell_type": "code",
   "execution_count": 13,
   "metadata": {},
   "outputs": [
    {
     "name": "stdout",
     "output_type": "stream",
     "text": [
      "Elements appearing more than expected and passing the Self-Consistency test:\n",
      "\n",
      "Value: 0x000800 --> 18.\n",
      "Value: 0x400800 --> 13.\n",
      "Value: 0x700800 --> 7.\n",
      "\n",
      "Only up to 4 repetitions are explained by randomness."
     ]
    }
   ],
   "source": [
    "println(\"Elements appearing more than expected and passing the Self-Consistency test:\\n\")\n",
    "for index in 1:length(C4_SCY[:, 1])\n",
    "    println(\"Value: 0x\", string(C4_SCY[index, 1], base=16, pad = 6), \" --> \", Int(C4_SCY[index, 2]),\".\")\n",
    "end\n",
    "\n",
    "UsePseudoAddress ? L = LA*WordWidth : L = LA\n",
    "\n",
    "print(\"\\nOnly up to \", MaxExpectedRepetitions(NPairs(DATA4, UsePseudoAddress, WordWidth, KeepCycles), L, Operation, ϵ)-1, \" repetitions are explained by randomness.\")"
   ]
  },
  {
   "cell_type": "markdown",
   "metadata": {},
   "source": [
    "In this example, it is not worth to check the other sets since they did not yield any positive result. If you had had success, you would only have to do the following:"
   ]
  },
  {
   "cell_type": "code",
   "execution_count": 14,
   "metadata": {},
   "outputs": [
    {
     "data": {
      "text/plain": [
       "3×2 Matrix{UInt32}:\n",
       " 0x00000800  0x00000012\n",
       " 0x00400800  0x0000000d\n",
       " 0x00700800  0x00000007"
      ]
     },
     "execution_count": 14,
     "metadata": {},
     "output_type": "execute_result"
    }
   ],
   "source": [
    "C4_All = [C4_SCY; C4_MCU; C4_TRC; C4_SHF]"
   ]
  },
  {
   "cell_type": "markdown",
   "metadata": {},
   "source": [
    "## Grouping bitflips\n",
    "Now, we have discovered those values relating pairs of pseudoaddresses. Now, let us go to group events in DATA. \n",
    "\n",
    "The first step consists in labeling all the pseudoaddresses and grouping their assigned indexes to a matrix containing information for the possible MCUs. It is an intermediate step and is done with the instruction _MCU_Indexes_ with the required and already defined parameters. "
   ]
  },
  {
   "cell_type": "code",
   "execution_count": 15,
   "metadata": {},
   "outputs": [
    {
     "data": {
      "text/plain": [
       "38×2 Matrix{Int64}:\n",
       "  20  240\n",
       "  30  329\n",
       "  33  334\n",
       "  36  277\n",
       "  41  339\n",
       "  50  290\n",
       "  52   54\n",
       "  62  360\n",
       "  64   65\n",
       "  66  306\n",
       "  70  308\n",
       "  71  309\n",
       "  77   78\n",
       "   ⋮  \n",
       " 171  172\n",
       " 177  413\n",
       " 194  195\n",
       " 249  250\n",
       " 274  275\n",
       " 280  281\n",
       " 284  286\n",
       " 325  326\n",
       " 342  343\n",
       " 374  375\n",
       " 379  380\n",
       " 392  393"
      ]
     },
     "execution_count": 15,
     "metadata": {},
     "output_type": "execute_result"
    }
   ],
   "source": [
    "Labeled_addresses = MCU_Indexes(DATA4, Operation, C4_All[:, 1], UsePseudoAddress, WordWidth)"
   ]
  },
  {
   "cell_type": "markdown",
   "metadata": {},
   "source": [
    "You should have got a 38x2 matrix so there are 38 2-bit MCUs.  \n",
    "\n",
    "Now, we will classify addresses with _Classify_Addresses_in_MCU()_, using the previous matrix, _Labeled_addresses_. This function returns a vector of matrices. The first element is a matrix with pseudoaddresses related to 2-bit MCUs, and the second and last one to SBUs."
   ]
  },
  {
   "cell_type": "code",
   "execution_count": 17,
   "metadata": {},
   "outputs": [
    {
     "data": {
      "text/plain": [
       "2-element Vector{Any}:\n",
       " UInt32[0x00097d22 0x00497522; 0x00100674 0x00600e74; … ; 0x006cb133 0x006cb933; 0x006f72b7 0x006f7ab7]\n",
       " UInt32[0x00000f02, 0x00003d14, 0x0000b1b0, 0x0000bdd2, 0x0000cb10, 0x0000fbc4, 0x0001b5c5, 0x0001cfd7, 0x00023043, 0x000294d4  …  0x007ca960, 0x007d2a63, 0x007d4013, 0x007d5e23, 0x007e02e2, 0x007e0304, 0x007e5b74, 0x007f9112, 0x007f9b16, 0x007fcd23]"
      ]
     },
     "execution_count": 17,
     "metadata": {},
     "output_type": "execute_result"
    }
   ],
   "source": [
    "Events = Classify_Addresses_in_MCU(DATA4, Labeled_addresses, UsePseudoAddress, WordWidth)"
   ]
  },
  {
   "cell_type": "markdown",
   "metadata": {},
   "source": [
    "---------------------\n",
    "Difficult to read, isn't it? The following instruction makes the content more readable:"
   ]
  },
  {
   "cell_type": "code",
   "execution_count": 18,
   "metadata": {},
   "outputs": [
    {
     "name": "stdout",
     "output_type": "stream",
     "text": [
      "Pseudoaddresses involved in 2-bit MCUs (38 events):\n",
      "0x097d22, 0x497522\n",
      "0x100674, 0x600e74\n",
      "0x116582, 0x616d82\n",
      "0x11bb60, 0x51b360\n",
      "0x12a146, 0x62a946\n",
      "0x149e53, 0x549653\n",
      "0x14d613, 0x14de13\n",
      "0x17e2e6, 0x67eae6\n",
      "0x17f3d7, 0x17fbd7\n",
      "0x1808d4, 0x5800d4\n",
      "0x186e44, 0x586644\n",
      "0x1889d6, 0x5881d6\n",
      "0x1a7393, 0x1a7b93\n",
      "0x1ae1a6, 0x6ae9a6\n",
      "0x1b7145, 0x1b7945\n",
      "0x1b94e6, 0x6b9ce6\n",
      "0x1d7684, 0x6d7e84\n",
      "0x1df4f7, 0x1dfcf7\n",
      "0x1ed6c3, 0x1edec3\n",
      "0x1ed9e0, 0x5ed1e0\n",
      "0x227787, 0x227f87\n",
      "0x23ff34, 0x63f734\n",
      "0x279e26, 0x679626\n",
      "0x27fbf6, 0x67f3f6\n",
      "0x2abcb0, 0x6ab4b0\n",
      "0x2fceb0, 0x6fc6b0\n",
      "0x34b4a7, 0x34bca7\n",
      "0x363f02, 0x763702\n",
      "0x3bb4d3, 0x3bbcd3\n",
      "0x4b85d7, 0x4b8dd7\n",
      "0x517195, 0x517995\n",
      "0x5217b3, 0x521fb3\n",
      "0x52e523, 0x52ed23\n",
      "0x5f1123, 0x5f1923\n",
      "0x63a093, 0x63a893\n",
      "0x6c06a5, 0x6c0ea5\n",
      "0x6cb133, 0x6cb933\n",
      "0x6f72b7, 0x6f7ab7\n",
      "\n",
      "Pseudoaddresses involved in 1-bit MCUs (361 events):\n",
      "0x000f02\n",
      "0x003d14\n",
      "0x00b1b0\n",
      "0x00bdd2\n",
      "0x00cb10\n",
      "0x00fbc4\n",
      "0x01b5c5\n",
      "0x01cfd7\n",
      "0x023043\n",
      "0x0294d4\n",
      "0x030aa2\n",
      "0x041a15\n",
      "0x04b9f0\n",
      "0x054d45\n",
      "0x05df62\n",
      "0x05f170\n",
      "0x06bb52\n",
      "0x072992\n",
      "0x079586\n",
      "0x0a4900\n",
      "0x0b3a44\n",
      "0x0c1352\n",
      "0x0d3b74\n",
      "0x0f3360\n",
      "0x0f5383\n",
      "0x0f9974\n",
      "0x0fcb53\n",
      "0x0ff9a0\n",
      "0x107490\n",
      "0x10faa7\n",
      "0x1190a7\n",
      "0x119d36\n",
      "0x11d523\n",
      "0x122390\n",
      "0x123c47\n",
      "0x128950\n",
      "0x130e94\n",
      "0x1320a0\n",
      "0x1372a2\n",
      "0x13d082\n",
      "0x13eb67\n",
      "0x13fb82\n",
      "0x1475a7\n",
      "0x147d93\n",
      "0x14b885\n",
      "0x14dcc2\n",
      "0x159146\n",
      "0x15e092\n",
      "0x15fdc7\n",
      "0x16b137\n",
      "0x16f084\n",
      "0x170297\n",
      "0x17d7d7\n",
      "0x17ee63\n",
      "0x1816b5\n",
      "0x182c86\n",
      "0x1868a4\n",
      "0x196337\n",
      "0x198266\n",
      "0x1986b7\n",
      "0x199bc6\n",
      "0x199c66\n",
      "0x1b2f46\n",
      "0x1b5136\n",
      "0x1b8424\n",
      "0x1bfca5\n",
      "0x1c14b7\n",
      "0x1ca6d3\n",
      "0x1ce317\n",
      "0x1d08b6\n",
      "0x1db366\n",
      "0x1de040\n",
      "0x1e11d5\n",
      "0x1eec40\n",
      "0x1f32d0\n",
      "0x1f33d3\n",
      "0x1fa813\n",
      "0x1fc500\n",
      "0x1fe807\n",
      "0x201342\n",
      "0x2055e0\n",
      "0x208d70\n",
      "0x21f645\n",
      "0x229fe4\n",
      "0x22baa4\n",
      "0x235a26\n",
      "0x236955\n",
      "0x239d64\n",
      "0x23dc16\n",
      "0x23ff50\n",
      "0x240a92\n",
      "0x243e32\n",
      "0x246647\n",
      "0x24bb94\n",
      "0x24cd83\n",
      "0x24f817\n",
      "0x2586d7\n",
      "0x25a367\n",
      "0x25f763\n",
      "0x268c32\n",
      "0x26de32\n",
      "0x26e693\n",
      "0x276755\n",
      "0x279347\n",
      "0x283922\n",
      "0x283d54\n",
      "0x28e7c7\n",
      "0x29a233\n",
      "0x29f966\n",
      "0x2a0930\n",
      "0x2a1e60\n",
      "0x2a56f3\n",
      "0x2ad495\n",
      "0x2b9b83\n",
      "0x2bb173\n",
      "0x2bc5d3\n",
      "0x2cc615\n",
      "0x2d1a20\n",
      "0x2d3c32\n",
      "0x2d54f6\n",
      "0x2def16\n",
      "0x2e88c5\n",
      "0x2f1227\n",
      "0x2f4e65\n",
      "0x2f6a66\n",
      "0x3028c6\n",
      "0x3095c4\n",
      "0x311897\n",
      "0x31ddd5\n",
      "0x31e944\n",
      "0x31fa55\n",
      "0x328a77\n",
      "0x32e3b0\n",
      "0x330676\n",
      "0x333213\n",
      "0x3347d4\n",
      "0x335cb7\n",
      "0x34d530\n",
      "0x34ed57\n",
      "0x361af5\n",
      "0x361f15\n",
      "0x36e8a7\n",
      "0x3726e6\n",
      "0x373596\n",
      "0x377084\n",
      "0x384997\n",
      "0x38a2a4\n",
      "0x3927d6\n",
      "0x397b43\n",
      "0x39e227\n",
      "0x3a0fa2\n",
      "0x3a14e2\n",
      "0x3aa227\n",
      "0x3aa810\n",
      "0x3ab584\n",
      "0x3b5762\n",
      "0x3baf82\n",
      "0x3bdc95\n",
      "0x3bf8d3\n",
      "0x3d08a0\n",
      "0x3d7d97\n",
      "0x3da3a6\n",
      "0x3dab20\n",
      "0x3dfb83\n",
      "0x3e36f4\n",
      "0x3e8fc0\n",
      "0x3ea396\n",
      "0x3eb065\n",
      "0x3f2a15\n",
      "0x3fa300\n",
      "0x3fbad7\n",
      "0x3fdb95\n",
      "0x402980\n",
      "0x405de0\n",
      "0x408205\n",
      "0x40be13\n",
      "0x410426\n",
      "0x4195e7\n",
      "0x426b57\n",
      "0x432cf2\n",
      "0x43e7b7\n",
      "0x4408e5\n",
      "0x441c74\n",
      "0x44dfd5\n",
      "0x455693\n",
      "0x457176\n",
      "0x45e087\n",
      "0x45fae2\n",
      "0x460194\n",
      "0x467153\n",
      "0x4692a4\n",
      "0x46f1e3\n",
      "0x471813\n",
      "0x475ef3\n",
      "0x47d3f3\n",
      "0x47e0c7\n",
      "0x480a56\n",
      "0x4859e3\n",
      "0x48aaa5\n",
      "0x48b3f5\n",
      "0x4966a7\n",
      "0x497544\n",
      "0x49fd92\n",
      "0x4a24b0\n",
      "0x4aa2d6\n",
      "0x4ad1b4\n",
      "0x4ad7d6\n",
      "0x4b36d4\n",
      "0x4b6864\n",
      "0x4bad42\n",
      "0x4bb173\n",
      "0x4be390\n",
      "0x4c7245\n",
      "0x4cab92\n",
      "0x4d3a54\n",
      "0x4df933\n",
      "0x4e08e0\n",
      "0x4e17a3\n",
      "0x4e2023\n",
      "0x4eb0b3\n",
      "0x4f2c87\n",
      "0x4fce27\n",
      "0x4ffc84\n",
      "0x4ffd90\n",
      "0x5078e2\n",
      "0x50ac87\n",
      "0x50af77\n",
      "0x50e3e0\n",
      "0x50e6d4\n",
      "0x50f8d6\n",
      "0x514485\n",
      "0x515e96\n",
      "0x517a15\n",
      "0x520d33\n",
      "0x521485\n",
      "0x5289d7\n",
      "0x529ba0\n",
      "0x52ece6\n",
      "0x530747\n",
      "0x53f6e2\n",
      "0x5412d6\n",
      "0x54ac42\n",
      "0x54f586\n",
      "0x552526\n",
      "0x555384\n",
      "0x5555f5\n",
      "0x55b666\n",
      "0x561135\n",
      "0x5661a4\n",
      "0x5682e2\n",
      "0x569ec2\n",
      "0x56ac33\n",
      "0x56e492\n",
      "0x577267\n",
      "0x577c75\n",
      "0x57b344\n",
      "0x581e73\n",
      "0x590782\n",
      "0x594657\n",
      "0x5b5fe3\n",
      "0x5c2116\n",
      "0x5c3736\n",
      "0x5cb885\n",
      "0x5d5860\n",
      "0x5d74f6\n",
      "0x5d9102\n",
      "0x5de286\n",
      "0x5e00c4\n",
      "0x5e5db7\n",
      "0x5eab96\n",
      "0x5ec043\n",
      "0x5f3290\n",
      "0x5fb163\n",
      "0x6045e5\n",
      "0x6078e4\n",
      "0x60b3d3\n",
      "0x610566\n",
      "0x6202d2\n",
      "0x6229d5\n",
      "0x6247b3\n",
      "0x625a12\n",
      "0x62b0a0\n",
      "0x637753\n",
      "0x63c884\n",
      "0x63d153\n",
      "0x640270\n",
      "0x641a83\n",
      "0x64c123\n",
      "0x64e803\n",
      "0x65e543\n",
      "0x66c6b5\n",
      "0x66d5a5\n",
      "0x671992\n",
      "0x6743d3\n",
      "0x677860\n",
      "0x677967\n",
      "0x67e635\n",
      "0x683915\n",
      "0x68af82\n",
      "0x691bd2\n",
      "0x691c66\n",
      "0x6945a0\n",
      "0x69fa12\n",
      "0x6a38f3\n",
      "0x6a3a34\n",
      "0x6b6095\n",
      "0x6c4896\n",
      "0x6c60d0\n",
      "0x6c83c0\n",
      "0x6cc887\n",
      "0x6d0944\n",
      "0x6d27e7\n",
      "0x6daba4\n",
      "0x6dbc52\n",
      "0x6e1fa6\n",
      "0x6e3ab6\n",
      "0x6eb193\n",
      "0x6f29a2\n",
      "0x6f44a7\n",
      "0x7018d5\n",
      "0x705086\n",
      "0x7146a3\n",
      "0x7200a6\n",
      "0x728440\n",
      "0x72a3c6\n",
      "0x732be3\n",
      "0x738593\n",
      "0x73b7c6\n",
      "0x73de33\n",
      "0x744065\n",
      "0x7445c6\n",
      "0x74f036\n",
      "0x74fc84\n",
      "0x750f45\n",
      "0x755de6\n",
      "0x756fa5\n",
      "0x75b402\n",
      "0x76f0d0\n",
      "0x76f104\n",
      "0x7702f6\n",
      "0x7753e4\n",
      "0x77f8e3\n",
      "0x78ae07\n",
      "0x790396\n",
      "0x792202\n",
      "0x79bc47\n",
      "0x7a2646\n",
      "0x7afb97\n",
      "0x7bb674\n",
      "0x7bc2d2\n",
      "0x7c1710\n",
      "0x7ca960\n",
      "0x7d2a63\n",
      "0x7d4013\n",
      "0x7d5e23\n",
      "0x7e02e2\n",
      "0x7e0304\n",
      "0x7e5b74\n",
      "0x7f9112\n",
      "0x7f9b16\n",
      "0x7fcd23\n",
      "\n"
     ]
    }
   ],
   "source": [
    "for k = 1:length(Events) \n",
    "    NMCUs = length(Events[k][:, 1])\n",
    "    println(\"Pseudoaddresses involved in $(length(Events)-k+1)-bit MCUs ($NMCUs events):\")\n",
    "    for row = 1:NMCUs\n",
    "        for bit = 1:length(Events)-k+1\n",
    "            print(\"0x\", string(Events[k][row, bit], base=16, pad = 6), )\n",
    "            \n",
    "            bit != length(Events)-k+1 ? print(\", \") : print(\"\\n\")\n",
    "\n",
    "        end\n",
    "    end\n",
    "    println()\n",
    "end"
   ]
  },
  {
   "cell_type": "markdown",
   "metadata": {},
   "source": [
    "## Are there false 2-bit MCUs?\n",
    "The only-SBU Model allows estimating the number of false 2-bit events. We can use an implemented function in LELAPE:"
   ]
  },
  {
   "cell_type": "code",
   "execution_count": 27,
   "metadata": {},
   "outputs": [
    {
     "name": "stdout",
     "output_type": "stream",
     "text": [
      "We expected 0.01703488826751709 false 2-bit MCUs in this  experiment.\n"
     ]
    }
   ],
   "source": [
    "NF2BIT = NF2BitMCUs(DATA4, LA, Operation, length(C4_All[:,1]), WordWidth, KeepCycles, UsePseudoAddress)\n",
    "println(\"We expected $NF2BIT false 2-bit MCUs in this  experiment.\")"
   ]
  },
  {
   "cell_type": "markdown",
   "metadata": {},
   "source": [
    "## Analysis completed\n",
    "You can find in this folder other actual data got from the same memory. Analyze them and, if you wish, add aditional cells combining the anomalous DV values and try to do the most accurate example."
   ]
  },
  {
   "cell_type": "code",
   "execution_count": null,
   "metadata": {},
   "outputs": [],
   "source": []
  }
 ],
 "metadata": {
  "kernelspec": {
   "display_name": "Julia 1.7.2",
   "language": "julia",
   "name": "julia-1.7.2"
  },
  "language_info": {
   "file_extension": ".jl",
   "mimetype": "application/julia",
   "name": "julia",
   "version": "1.7.2"
  }
 },
 "nbformat": 4,
 "nbformat_minor": 4
}
