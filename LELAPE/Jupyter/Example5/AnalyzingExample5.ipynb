{
 "cells": [
  {
   "cell_type": "markdown",
   "metadata": {},
   "source": [
    "# EXAMPLE 5\n",
    "## Explaining the experiment\n",
    "In this example, we are investigating the configuration memory of an FPGA with 25,611,008 bits (of which aroun 128k are flip-flops, the rest SRAM cells) organized in 800.344x32 words. A golden file following the manufacturer's rules was uploaded on the FPGA and then irradiated in static mode in an only round. Later, the content was downloaded and compared with the initial file.  "
   ]
  },
  {
   "cell_type": "markdown",
   "metadata": {},
   "source": [
    "## Loading packages\n",
    "The very first thing we must do is to load the packages required to load files (_DelimitedFiles_) as well as the LELAPE module. I suppose you have installed both. Load is done with:"
   ]
  },
  {
   "cell_type": "code",
   "execution_count": null,
   "metadata": {},
   "outputs": [],
   "source": [
    "### Defining the path to LELAPE\n",
    "push!(LOAD_PATH, \"PATH_TO_FOLDER_WITH_LELAPE.jl\"); # <-- ADAPT THIS INSTRUCTION TO YOUR COMPUTER!\n",
    "# If you are a Windows user, remember that subfolders are indicated with \\\\ or /, NEVER with a simple backslash."
   ]
  },
  {
   "cell_type": "code",
   "execution_count": null,
   "metadata": {},
   "outputs": [],
   "source": [
    "using DelimitedFiles, LELAPE"
   ]
  },
  {
   "cell_type": "markdown",
   "metadata": {},
   "source": [
    "## Defining variables\n",
    "Previous paragraph allows us to define several variables for checking the tests:\n",
    "\n",
    "* Word width : 32 bits\n",
    "* Memory size in words: 800344.\n",
    "* In FPGAs, it seems more likely to succeed the POS operation.\n",
    "* Tests were static. No information about cycles is necessary.\n",
    "\n",
    "Ok, let us use this information to set these variables:"
   ]
  },
  {
   "cell_type": "code",
   "execution_count": null,
   "metadata": {},
   "outputs": [],
   "source": [
    "LA = 800344 # Memory size in words\n",
    "WordWidth = 32 # Selfexplaining.\n",
    "Operation = \"POS\" # Only \"XOR\" or \"POS\" are allowed.\n",
    "KeepCycles = false # This is a Bool variable and only true false are accepted."
   ]
  },
  {
   "cell_type": "markdown",
   "metadata": {},
   "source": [
    "## Loading data\n",
    "Results are stored in three different files following the required format: \n",
    "* CSV files \n",
    "* Every row is formed as WORD ADDRESS, READ VALUE, PATTERN, CYCLE.\n",
    "Besides, the first row contains column heading (must be skipped), separators are commas and EOL character is the standard. \n",
    "\n",
    "We will use the _readdlm_ function provided by the _DelimitedFiles_ package to load the first CSV file and to store everything in the new variable, DATA. Finally, it is important to indicate that DATA must be an array of UInt32 numbers. "
   ]
  },
  {
   "cell_type": "code",
   "execution_count": null,
   "metadata": {},
   "outputs": [],
   "source": [
    "DATA1 = readdlm(\"ExampleFPGA01.csv\", ',', UInt32, '\\n', skipstart=1)"
   ]
  },
  {
   "cell_type": "markdown",
   "metadata": {},
   "source": [
    "Good!! If you have correctly proceeded, a 124x4 unsigned integer matrix is loaded. Now, let us analyze the DATA1 but we need to define in advance several variables to set the analysis."
   ]
  },
  {
   "cell_type": "markdown",
   "metadata": {},
   "source": [
    "## Looking for MBUs\n",
    "This analyisis is quite simple. We will call the _CheckMBUs_ function, which returns the MBUs present in DATA.Input arguments are the second and third columns, and the wordwidth.\n",
    "\n",
    "This function returns two vectors. The first one indicates in position _k_ the number of bitflips observed in the _kth_ word. The second one is a vector of vectors and contains more detailed information: not only the number of bitflips per word but the position of the flipped bit (0 = LSB, WordWidth-1 = MSB). "
   ]
  },
  {
   "cell_type": "code",
   "execution_count": null,
   "metadata": {},
   "outputs": [],
   "source": [
    "MBUSize, MBU_bit_pos = CheckMBUs(DATA1[:,2], DATA1[:,3], WordWidth)"
   ]
  },
  {
   "cell_type": "markdown",
   "metadata": {},
   "source": [
    "The following loop will show how many MBUs per number of flipped bits were observed:"
   ]
  },
  {
   "cell_type": "code",
   "execution_count": null,
   "metadata": {},
   "outputs": [],
   "source": [
    "for size = 1: WordWidth\n",
    "    NMBUs = length(findall(MBUSize.==size))\n",
    "    NMBUs!=0 ? println(\"$size-bit MBUs: \", NMBUs) : nothing\n",
    "end"
   ]
  },
  {
   "cell_type": "markdown",
   "metadata": {},
   "source": [
    "Interesting! There are some MBUs but... are they real or just the accumulation of SBUs. Let us perform an analysis of the presence of false 2- and 3-bit MBUs."
   ]
  },
  {
   "cell_type": "markdown",
   "metadata": {},
   "source": [
    "## Looking for MCUs\n",
    "As modern memories are interleaved, it is not worth investigating MBUs but MCUs. Now, the system will combine addresses in all the possible pairs and operate them to create a DV set. If there were no MCUs, their characteristics are known. \n",
    "\n",
    "In particular, we can state that if the expected number of elements repeated _k_ times in this set is lower than a very low positive number, it is impossible to observe this number of repetitions unless the Only SBU assumption fails. We will define this threshold as 0.001 (default, 0.05). \n",
    "\n",
    "\n",
    "Although without a solid theoretical background, it seems that using pseudoaddress instead of word address provides better results.\n",
    "\n",
    "Some experiments seem to show that if an element with very few number of 1s in binary format is too often repeated, it is indicative of the presence of MCUs. This is the Trace Rule and, in our analyisis, we want to keep all those too often repeated elements such that contain 2 ones or less in binary format.\n",
    "\n",
    "Finally, perhaps we know that MCUs will not very large. For example, we may guess that MCUs with more than 20 bitflips are totally rejected. Therefore, to help the software and to avoid running out of memory, we will say the program _\"Don't be silly and do not expect events larger than 20!!\"_ If somehow this idea was wrong, we can change this value again and repeat the calculations."
   ]
  },
  {
   "cell_type": "code",
   "execution_count": null,
   "metadata": {},
   "outputs": [],
   "source": [
    "ϵ = 0.001   # If the expected number of elements repeated k times is lower than ϵ, \n",
    "            # we can afirm that this is virtually impossible.\n",
    "UsePseudoAddress = true\n",
    "TraceRuleLength = 2\n",
    "LargestMCUSize = 20"
   ]
  },
  {
   "cell_type": "markdown",
   "metadata": {},
   "source": [
    "Time to test!!! We will call the function. Deppending on the set size or even if this is your first test, it will take you more or less time (Don't get up from your chair, though!!!!)\n",
    "\n",
    "The following instruction will look for:\n",
    "1. Values that pass the self-consistency test (C1_SCY)\n",
    "2. Values found after inspecting MCUs derived from self-consistency-test (C1_MCU).\n",
    "3. Values with less than or equal to _TraceRuleLength_ 1s in binary format that appear too often in the DV set (C1_TRC).\n",
    "4. Values that, after combining in pairs the union of all the previous three sets and applying the operation and that appear too many times within the DV set (C1_SHF).\n",
    "\n",
    "The first column of each matrix are the possible values and the second one the times it appeared."
   ]
  },
  {
   "cell_type": "code",
   "execution_count": null,
   "metadata": {},
   "outputs": [],
   "source": [
    "C1_SCY, C1_MCU, C1_TRC, C1_SHF = DetectAnomalies_FullCheck(DATA1, WordWidth, LA, Operation, TraceRuleLength, UsePseudoAddress, KeepCycles, ϵ, LargestMCUSize)\n"
   ]
  },
  {
   "cell_type": "markdown",
   "metadata": {},
   "source": [
    "Perhaps these matrices are hard to read since, for efficiency, they were returned in UInt32 format, even the number of occurrences!!! Execute the following instrucction for a better comprehension."
   ]
  },
  {
   "cell_type": "code",
   "execution_count": null,
   "metadata": {},
   "outputs": [],
   "source": [
    "println(\"Elements appearing more than expected and passing the Self-Consistency test:\\n\")\n",
    "for index in 1:length(C1_SCY[:, 1])\n",
    "    println(\"Value: 0x\", string(C1_SCY[index, 1], base=16, pad = 6), \"  (\", Int(C1_SCY[index, 1]), \") --> \", Int(C1_SCY[index, 2]),\".\")\n",
    "end\n",
    "\n",
    "UsePseudoAddress ? L = LA*WordWidth : L = LA\n",
    "\n",
    "print(\"\\nOnly up to \", MaxExpectedRepetitions(NPairs(DATA1, UsePseudoAddress, WordWidth, KeepCycles), L, Operation, ϵ)-1, \" repetitions are explained by randomness.\")"
   ]
  },
  {
   "cell_type": "markdown",
   "metadata": {},
   "source": [
    "If you had had success in the previous line, you would only have to do the following to integrate the anomalies in only one set. However,  the other sets (C4_MCU; C4_TRC; C4_SHF) since they did not yield any additional result:"
   ]
  },
  {
   "cell_type": "code",
   "execution_count": null,
   "metadata": {},
   "outputs": [],
   "source": [
    "C1_All = [C1_SCY; C1_MCU; C1_TRC; C1_SHF]"
   ]
  },
  {
   "cell_type": "markdown",
   "metadata": {},
   "source": [
    "## Grouping bitflips\n",
    "Now, we have discovered those values relating pairs of pseudoaddresses. Now, let us go to group events in DATA. \n",
    "\n",
    "The first step consists in labeling all the pseudoaddresses and grouping their assigned indexes to a matrix containing information for the possible MCUs. It is an intermediate step and is done with the instruction _MCU_Indexes_ with the required and already defined parameters. "
   ]
  },
  {
   "cell_type": "code",
   "execution_count": null,
   "metadata": {},
   "outputs": [],
   "source": [
    "Labeled_addresses = MCU_Indexes(DATA1, Operation, C1_All[:, 1], UsePseudoAddress, WordWidth)"
   ]
  },
  {
   "cell_type": "markdown",
   "metadata": {},
   "source": [
    "If you are testing ExampleFPGA01, uYou should have got a 32x6 matrix so there are 32 MCUs, of which at least 1 has 6-multiplicity.  \n",
    "\n",
    "Now, we will classify addresses with _Classify_Addresses_in_MCU()_, using the previous matrix, _Labeled_addresses_. This function returns a vector of matrices. The first element is a matrix with pseudoaddresses related to 9-bit MCUs, and the second and last one to SBUs."
   ]
  },
  {
   "cell_type": "code",
   "execution_count": null,
   "metadata": {},
   "outputs": [],
   "source": [
    "Events = Classify_Addresses_in_MCU(DATA1, Labeled_addresses, UsePseudoAddress, WordWidth)"
   ]
  },
  {
   "cell_type": "markdown",
   "metadata": {},
   "source": [
    "---------------------\n",
    "Difficult to read, isn't it? The following instruction makes the content more readable:"
   ]
  },
  {
   "cell_type": "code",
   "execution_count": null,
   "metadata": {},
   "outputs": [],
   "source": [
    "for k = 1:length(Events) \n",
    "    NMCUs = length(Events[k][:, 1])\n",
    "    println(\"Pseudoaddresses involved in $(length(Events)-k+1)-bit MCUs ($NMCUs events):\")\n",
    "    if NMCUs != 0\n",
    "        for row = 1:NMCUs\n",
    "            for bit = 1:length(Events)-k+1\n",
    "                print(\"0x\", string(Events[k][row, bit], base=16, pad = 6), )\n",
    "\n",
    "                bit != length(Events)-k+1 ? print(\", \") : print(\"\\n\")\n",
    "\n",
    "            end\n",
    "        end\n",
    "    end\n",
    "    println()\n",
    "end"
   ]
  },
  {
   "cell_type": "markdown",
   "metadata": {},
   "source": [
    "## Are there false 2-bit MCUs?\n",
    "The only-SBU Model allows estimating the number of false 2-bit events. We can use an implemented function in LELAPE:"
   ]
  },
  {
   "cell_type": "code",
   "execution_count": null,
   "metadata": {},
   "outputs": [],
   "source": [
    "NF2BIT = NF2BitMCUs(DATA1, LA, Operation, length(C4_All[:,1]), WordWidth, KeepCycles, UsePseudoAddress)\n",
    "println(\"We expected $NF2BIT false 2-bit MCUs in this  experiment.\")"
   ]
  },
  {
   "cell_type": "markdown",
   "metadata": {},
   "source": [
    "## First part of the analysis completed\n",
    "You can find in this folder other actual data got from the same memory. Analyze them and, if you wish, add aditional cells combining the anomalous DV values and try to do the most accurate example."
   ]
  },
  {
   "cell_type": "markdown",
   "metadata": {},
   "source": [
    "# Second part \n",
    "If you perform analysis on all the DATA sets, you will discover that the following values are anomalously repeated and can use them to classify events even if they were not found in its corresponding round. So, let us repeat the calculations with the whole set and refine the results. The values were:\n",
    "\n",
    "* 1\n",
    "* 2\n",
    "* 3230 \n",
    "* 3231\n",
    "* 3232 \n",
    "* 3233\n",
    "* 3234\n",
    "* 3235\n",
    "\n",
    "First, we will load this values in memory:\n"
   ]
  },
  {
   "cell_type": "code",
   "execution_count": null,
   "metadata": {},
   "outputs": [],
   "source": [
    "Anomalies = convert.(UInt32, [1; 2; 3230:3234]);"
   ]
  },
  {
   "cell_type": "markdown",
   "metadata": {},
   "source": [
    "Let us load the CSV again"
   ]
  },
  {
   "cell_type": "code",
   "execution_count": null,
   "metadata": {},
   "outputs": [],
   "source": [
    "DATA1 = readdlm(\"ExampleFPGA01.csv\", ',', UInt32, '\\n', skipstart=1);"
   ]
  },
  {
   "cell_type": "markdown",
   "metadata": {},
   "source": [
    "Also, the parameters to define the analysis:"
   ]
  },
  {
   "cell_type": "code",
   "execution_count": null,
   "metadata": {},
   "outputs": [],
   "source": [
    "LA = 800344 # Memory size in words\n",
    "WordWidth = 32 # Selfexplaining.\n",
    "Operation = \"POS\" # Only \"XOR\" or \"POS\" are allowed.\n",
    "KeepCycles = false # This is a Bool variable and only true false are accepted.\n",
    "ϵ = 0.001   # If the expected number of elements repeated k times is lower than ϵ, \n",
    "            # we can afirm that this is virtually impossible.\n",
    "UsePseudoAddress = true\n",
    "TraceRuleLength = 2\n",
    "LargestMCUSize = 20;"
   ]
  },
  {
   "cell_type": "markdown",
   "metadata": {},
   "source": [
    "As the anomalies were predefined, it is not necessary to look for them. Besides, the MBU analysis was done before. Let us make groups of events:"
   ]
  },
  {
   "cell_type": "code",
   "execution_count": null,
   "metadata": {},
   "outputs": [],
   "source": [
    "Labeled_addresses = MCU_Indexes(DATA1, Operation, Anomalies, UsePseudoAddress, WordWidth)"
   ]
  },
  {
   "cell_type": "markdown",
   "metadata": {},
   "source": [
    "And, instead of the indexes in the DATA set, let us recover the original addresses:"
   ]
  },
  {
   "cell_type": "code",
   "execution_count": null,
   "metadata": {},
   "outputs": [],
   "source": [
    "for k = 1:length(Events) \n",
    "    NMCUs = length(Events[k][:, 1])\n",
    "    println(\"Pseudoaddresses involved in $(length(Events)-k+1)-bit MCUs ($NMCUs events):\")\n",
    "    if NMCUs != 0\n",
    "        for row = 1:NMCUs\n",
    "            for bit = 1:length(Events)-k+1\n",
    "                print(\"0x\", string(Events[k][row, bit], base=16, pad = 6), )\n",
    "\n",
    "                bit != length(Events)-k+1 ? print(\", \") : print(\"\\n\")\n",
    "\n",
    "            end\n",
    "        end\n",
    "    end\n",
    "    println()\n",
    "end\n",
    "\n",
    "##################\n",
    "println(); println(\"-\"^50); println()\n",
    "println(\"Multiplicity\\tOccurrences\")\n",
    "println(\"------------\\t-----------\")\n",
    "for k = 1:length(Events) \n",
    "    NMCUs = length(Events[k][:, 1])\n",
    "    if NMCUs != 0\n",
    "        println(\"$(length(Events)-k+1)\\t\\t$NMCUs\")\n",
    "    end\n",
    "end"
   ]
  },
  {
   "cell_type": "markdown",
   "metadata": {},
   "source": [
    "Thats all! Now, you can change the initial data set and procceed. Sometimes the analysis casts better results, sometimes there is not any difference between analysis. Go ahead and verify!"
   ]
  },
  {
   "cell_type": "markdown",
   "metadata": {},
   "source": [
    "# A little more information\n",
    "These data sets were used as the basis for J. C. Fabero et al., _\"Single Event Upsets Under 14-MeV Neutrons in a 28-nm SRAM-Based FPGA in Static Mode,\"_ IEEE Transactions on Nuclear Science, vol. 67, no. 7, pp. 1461-1469, July 2020, doi: 10.1109/TNS.2020.2977874, freely available for download on https://eprints.ucm.es/id/eprint/59496/\n"
   ]
  }
 ],
 "metadata": {
  "kernelspec": {
   "display_name": "Julia 1.7.2",
   "language": "julia",
   "name": "julia-1.7.2"
  },
  "language_info": {
   "file_extension": ".jl",
   "mimetype": "application/julia",
   "name": "julia",
   "version": "1.7.2"
  }
 },
 "nbformat": 4,
 "nbformat_minor": 4
}
